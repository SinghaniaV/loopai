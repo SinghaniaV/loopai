{
 "cells": [
  {
   "cell_type": "code",
   "execution_count": 8,
   "metadata": {
    "ExecuteTime": {
     "end_time": "2023-08-01T18:48:20.523871507Z",
     "start_time": "2023-08-01T18:48:20.500383836Z"
    }
   },
   "outputs": [],
   "source": [
    "import pandas as pd\n",
    "from datetime import time\n",
    "from database.db_utils import get_connection\n",
    "pd.set_option('display.max_columns', None)"
   ]
  },
  {
   "cell_type": "code",
   "execution_count": 9,
   "metadata": {
    "ExecuteTime": {
     "end_time": "2023-08-01T18:48:52.658754780Z",
     "start_time": "2023-08-01T18:48:23.437610045Z"
    }
   },
   "outputs": [],
   "source": [
    "# connect to the database\n",
    "engine = get_connection()\n",
    "\n",
    "# load the tables into pd.Dataframes\n",
    "store_status_df: pd.DataFrame = pd.read_sql_table('store_status', con=engine)\n",
    "time_zone_df: pd.DataFrame = pd.read_sql_table('time_zone', con=engine)\n",
    "menu_hours_df: pd.DataFrame = pd.read_sql_table('menu_hours', con=engine)\n",
    "reports_df: pd.DataFrame = pd.read_sql_table('reports', con=engine)"
   ]
  },
  {
   "cell_type": "code",
   "execution_count": null,
   "outputs": [],
   "source": [
    "merged_df = pd.merge(store_status_df, menu_hours_df, on='store_id', how='left')\n",
    "merged_df = pd.merge(merged_df, time_zone_df, on='store_id', how='left')\n",
    "\n",
    "merged_df['timestamp_utc'] = pd.to_datetime(merged_df['timestamp_utc'])\n",
    "merged_df['timestamp_utc'] = merged_df['timestamp_utc'].dt.tz_localize('UTC')\n",
    "\n",
    "merged_df['timezone_str'] = merged_df['timezone_str'].fillna('America/Chicago')\n",
    "merged_df['timestamp_local'] = merged_df\\\n",
    "    .apply(lambda row: row['timestamp_utc'].tz_convert(row['timezone_str']), axis=1)\n",
    "grouped = merged_df.groupby(by=['store_id'])\\\n",
    "    .agg(min_value=('timestamp_local', 'min'), max_value=('timestamp_local', 'max'))\n",
    "\n",
    "print(grouped)"
   ],
   "metadata": {
    "collapsed": false
   }
  },
  {
   "cell_type": "code",
   "execution_count": null,
   "metadata": {},
   "outputs": [],
   "source": []
  }
 ],
 "metadata": {
  "kernelspec": {
   "display_name": "venv",
   "language": "python",
   "name": "python3"
  },
  "language_info": {
   "codemirror_mode": {
    "name": "ipython",
    "version": 3
   },
   "file_extension": ".py",
   "mimetype": "text/x-python",
   "name": "python",
   "nbconvert_exporter": "python",
   "pygments_lexer": "ipython3",
   "version": "3.10.6"
  },
  "orig_nbformat": 4
 },
 "nbformat": 4,
 "nbformat_minor": 2
}
