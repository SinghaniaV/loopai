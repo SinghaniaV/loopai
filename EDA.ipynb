{
 "cells": [
  {
   "cell_type": "code",
   "execution_count": 1,
   "metadata": {
    "ExecuteTime": {
     "end_time": "2023-07-31T00:23:08.725374222Z",
     "start_time": "2023-07-31T00:23:08.266477187Z"
    }
   },
   "outputs": [],
   "source": [
    "import pandas as pd\n",
    "from datetime import time\n",
    "from database.db_utils import get_connection\n",
    "pd.set_option('display.max_columns', None)"
   ]
  },
  {
   "cell_type": "markdown",
   "source": [
    "## since, the smallest unit for which we have to measure the availability is an hour.\n",
    "## so, divide max(timestamp) - min(timestamp) into batches of 1 hour for each day.\n",
    "## look for available data in each of the batches.\n",
    "## if the store was active we mark the whole hour as available.\n",
    "## if the store was not active or the data is not available then we mark the whole hour as not available."
   ],
   "metadata": {
    "collapsed": false
   }
  },
  {
   "cell_type": "code",
   "execution_count": 2,
   "metadata": {
    "ExecuteTime": {
     "end_time": "2023-07-31T00:23:25.912878243Z",
     "start_time": "2023-07-31T00:23:20.492102741Z"
    }
   },
   "outputs": [],
   "source": [
    "# connect to the database\n",
    "engine = get_connection()\n",
    "\n",
    "# load the tables into pd.Dataframes\n",
    "store_status_df: pd.DataFrame = pd.read_sql_table('store_status', con=engine)\n",
    "time_zone_df: pd.DataFrame = pd.read_sql_table('time_zone', con=engine)\n",
    "menu_hours_df: pd.DataFrame = pd.read_sql_table('menu_hours', con=engine)\n",
    "reports_df: pd.DataFrame = pd.read_sql_table('reports', con=engine)"
   ]
  },
  {
   "cell_type": "code",
   "execution_count": 7,
   "outputs": [
    {
     "name": "stdout",
     "output_type": "stream",
     "text": [
      "                                     min_value                  max_value\n",
      "store_id                                                                 \n",
      "257406274356679      2023-01-18 08:31:37-05:00  2023-01-25 13:03:20-05:00\n",
      "309081616338296      2023-01-18 15:11:02-05:00  2023-01-25 13:09:53-05:00\n",
      "2570905277901393     2023-01-17 19:00:35-05:00  2023-01-25 13:05:39-05:00\n",
      "2843799253836859     2023-01-18 14:52:58-05:00  2023-01-25 13:00:26-05:00\n",
      "3225796639170927     2023-01-18 08:51:00-05:00  2023-01-25 13:03:12-05:00\n",
      "...                                        ...                        ...\n",
      "9218470229355806679  2023-01-18 13:48:09-06:00  2023-01-25 12:02:31-06:00\n",
      "9219648204163704298  2023-01-17 19:11:15-05:00  2023-01-25 13:04:43-05:00\n",
      "9220622754425525111  2023-01-18 14:42:50-05:00  2023-01-25 13:08:03-05:00\n",
      "9221835456246842967  2023-01-18 14:38:04-05:00  2023-01-25 13:05:19-05:00\n",
      "9222367421889482050  2023-01-18 14:43:21-05:00  2023-01-25 13:12:13-05:00\n",
      "\n",
      "[14092 rows x 2 columns]\n",
      "                                     min_value                  max_value\n",
      "store_id                                                                 \n",
      "257406274356679      2023-01-18 08:31:37-05:00  2023-01-25 13:03:20-05:00\n",
      "309081616338296      2023-01-18 15:11:02-05:00  2023-01-25 13:09:53-05:00\n",
      "2570905277901393     2023-01-17 19:00:35-05:00  2023-01-25 13:05:39-05:00\n",
      "2843799253836859     2023-01-18 14:52:58-05:00  2023-01-25 13:00:26-05:00\n",
      "3225796639170927     2023-01-18 08:51:00-05:00  2023-01-25 13:03:12-05:00\n",
      "...                                        ...                        ...\n",
      "9218470229355806679  2023-01-18 13:48:09-06:00  2023-01-25 12:02:31-06:00\n",
      "9219648204163704298  2023-01-17 19:11:15-05:00  2023-01-25 13:04:43-05:00\n",
      "9220622754425525111  2023-01-18 14:42:50-05:00  2023-01-25 13:08:03-05:00\n",
      "9221835456246842967  2023-01-18 14:38:04-05:00  2023-01-25 13:05:19-05:00\n",
      "9222367421889482050  2023-01-18 14:43:21-05:00  2023-01-25 13:12:13-05:00\n",
      "\n",
      "[14092 rows x 2 columns]\n",
      "                                     min_value                  max_value\n",
      "store_id                                                                 \n",
      "257406274356679      2023-01-18 08:31:37-05:00  2023-01-25 13:03:20-05:00\n",
      "309081616338296      2023-01-18 15:11:02-05:00  2023-01-25 13:09:53-05:00\n",
      "2570905277901393     2023-01-17 19:00:35-05:00  2023-01-25 13:05:39-05:00\n",
      "2843799253836859     2023-01-18 14:52:58-05:00  2023-01-25 13:00:26-05:00\n",
      "3225796639170927     2023-01-18 08:51:00-05:00  2023-01-25 13:03:12-05:00\n",
      "...                                        ...                        ...\n",
      "9218470229355806679  2023-01-18 13:48:09-06:00  2023-01-25 12:02:31-06:00\n",
      "9219648204163704298  2023-01-17 19:11:15-05:00  2023-01-25 13:04:43-05:00\n",
      "9220622754425525111  2023-01-18 14:42:50-05:00  2023-01-25 13:08:03-05:00\n",
      "9221835456246842967  2023-01-18 14:38:04-05:00  2023-01-25 13:05:19-05:00\n",
      "9222367421889482050  2023-01-18 14:43:21-05:00  2023-01-25 13:12:13-05:00\n",
      "\n",
      "[14092 rows x 2 columns]\n",
      "                                     min_value                  max_value\n",
      "store_id                                                                 \n",
      "257406274356679      2023-01-18 08:31:37-05:00  2023-01-25 13:03:20-05:00\n",
      "309081616338296      2023-01-18 15:11:02-05:00  2023-01-25 13:09:53-05:00\n",
      "2570905277901393     2023-01-17 19:00:35-05:00  2023-01-25 13:05:39-05:00\n",
      "2843799253836859     2023-01-18 14:52:58-05:00  2023-01-25 13:00:26-05:00\n",
      "3225796639170927     2023-01-18 08:51:00-05:00  2023-01-25 13:03:12-05:00\n",
      "...                                        ...                        ...\n",
      "9218470229355806679  2023-01-18 13:48:09-06:00  2023-01-25 12:02:31-06:00\n",
      "9219648204163704298  2023-01-17 19:11:15-05:00  2023-01-25 13:04:43-05:00\n",
      "9220622754425525111  2023-01-18 14:42:50-05:00  2023-01-25 13:08:03-05:00\n",
      "9221835456246842967  2023-01-18 14:38:04-05:00  2023-01-25 13:05:19-05:00\n",
      "9222367421889482050  2023-01-18 14:43:21-05:00  2023-01-25 13:12:13-05:00\n",
      "\n",
      "[14092 rows x 2 columns]\n",
      "                                     min_value                  max_value\n",
      "store_id                                                                 \n",
      "257406274356679      2023-01-18 08:31:37-05:00  2023-01-25 13:03:20-05:00\n",
      "309081616338296      2023-01-18 15:11:02-05:00  2023-01-25 13:09:53-05:00\n",
      "2570905277901393     2023-01-17 19:00:35-05:00  2023-01-25 13:05:39-05:00\n",
      "2843799253836859     2023-01-18 14:52:58-05:00  2023-01-25 13:00:26-05:00\n",
      "3225796639170927     2023-01-18 08:51:00-05:00  2023-01-25 13:03:12-05:00\n",
      "...                                        ...                        ...\n",
      "9218470229355806679  2023-01-18 13:48:09-06:00  2023-01-25 12:02:31-06:00\n",
      "9219648204163704298  2023-01-17 19:11:15-05:00  2023-01-25 13:04:43-05:00\n",
      "9220622754425525111  2023-01-18 14:42:50-05:00  2023-01-25 13:08:03-05:00\n",
      "9221835456246842967  2023-01-18 14:38:04-05:00  2023-01-25 13:05:19-05:00\n",
      "9222367421889482050  2023-01-18 14:43:21-05:00  2023-01-25 13:12:13-05:00\n",
      "\n",
      "[14092 rows x 2 columns]\n"
     ]
    }
   ],
   "source": [
    "merged_df = pd.merge(store_status_df, menu_hours_df, on='store_id', how='left')\n",
    "merged_df = pd.merge(merged_df, time_zone_df, on='store_id', how='left')\n",
    "\n",
    "merged_df['timestamp_utc'] = pd.to_datetime(merged_df['timestamp_utc'])\n",
    "merged_df['timestamp_utc'] = merged_df['timestamp_utc'].dt.tz_localize('UTC')\n",
    "\n",
    "merged_df['timezone_str'] = merged_df['timezone_str'].fillna('America/Chicago')\n",
    "merged_df['timestamp_local'] = merged_df\\\n",
    "    .apply(lambda row: row['timestamp_utc'].tz_convert(row['timezone_str']), axis=1)\n",
    "grouped = merged_df.groupby(by=['store_id'])\\\n",
    "    .agg(min_value=('timestamp_local', 'min'), max_value=('timestamp_local', 'max'))\n",
    "\n",
    "print(grouped)"
   ],
   "metadata": {
    "collapsed": false,
    "ExecuteTime": {
     "end_time": "2023-07-30T04:08:11.020022695Z",
     "start_time": "2023-07-30T03:54:52.868085204Z"
    }
   }
  },
  {
   "cell_type": "code",
   "execution_count": 3,
   "metadata": {},
   "outputs": [],
   "source": []
  }
 ],
 "metadata": {
  "kernelspec": {
   "display_name": "venv",
   "language": "python",
   "name": "python3"
  },
  "language_info": {
   "codemirror_mode": {
    "name": "ipython",
    "version": 3
   },
   "file_extension": ".py",
   "mimetype": "text/x-python",
   "name": "python",
   "nbconvert_exporter": "python",
   "pygments_lexer": "ipython3",
   "version": "3.10.6"
  },
  "orig_nbformat": 4
 },
 "nbformat": 4,
 "nbformat_minor": 2
}
